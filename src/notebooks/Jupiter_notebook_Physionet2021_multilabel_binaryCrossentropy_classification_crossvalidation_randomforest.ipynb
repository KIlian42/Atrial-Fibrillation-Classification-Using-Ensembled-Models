{
  "cells": [
    {
      "cell_type": "code",
      "execution_count": 1,
      "metadata": {
        "id": "UPiaiebnCYov"
      },
      "outputs": [],
      "source": [
        "# == Hyperparameter configuration ==\n",
        "\n",
        "# Official scored labels Physionet 2021: https://github.com/physionetchallenges/evaluation-2021/blob/main/dx_mapping_scored.csv\n",
        "\n",
        "# 0 = 426783006 -> sinus rhythm (SR)\n",
        "# 1 = 164889003 -> atrial fibrillation (AF)\n",
        "# 2 = 164890007 -> atrial flutter (AFL)\n",
        "# 3 = 284470004 or 63593006 -> premature atrial contraction (PAC) or supraventricular premature beats (SVPB)\n",
        "# 4 = 427172004 or 17338001 -> premature ventricular contractions (PVC), ventricular premature beats (VPB)\n",
        "# 5 = 6374002 -> bundle branch block (BBB)\n",
        "# 6 = 426627000 -> bradycardia (Brady)\n",
        "# 7 = 733534002 or 164909002 -> complete left bundle branch block (CLBBB), left bundle branch block (LBBB)\n",
        "# 8 = 713427006 or 59118001 -> complete right bundle branch block (CRBBB), right bundle branch block (RBBB)\n",
        "# 9 = 270492004 -> 1st degree av block (IAVB)\n",
        "# 10 = 713426002 -> incomplete right bundle branch block (IRBBB)\n",
        "# 11 = 39732003 -> left axis deviation (LAD)\n",
        "# 12 = 445118002 -> left anterior fascicular block (LAnFB)\n",
        "# 13 = 251146004 -> low qrs voltages (LQRSV)\n",
        "# 14 = 698252002 -> nonspecific intraventricular conduction disorder (NSIVCB)\n",
        "# 15 = 10370003 -> pacing rhythm (PR)\n",
        "# 16 = 365413008 -> poor R wave Progression (PRWP)\n",
        "# 17 = 164947007 -> prolonged pr interval (LPR)\n",
        "# 18 = 111975006 -> prolonged qt interval (LQT)\n",
        "# 19 = 164917005 -> qwave abnormal (QAb)\n",
        "# 20 = 47665007 -> right axis deviation (RAD)\n",
        "# 21 = 427393009 -> sinus arrhythmia (SA)\n",
        "# 22 = 426177001 -> sinus bradycardia (SB)\n",
        "# 23 = 427084000 -> sinus tachycardia (STach)\n",
        "# 24 = 164934002 -> t wave abnormal (TAb)\n",
        "# 25 = 59931005 -> t wave inversion (TInv)\n",
        "\n",
        "VALID_LABELS = set(\n",
        "    [\n",
        "        \"164889003\",\n",
        "        \"164890007\",\n",
        "        \"6374002\",\n",
        "        \"426627000\",\n",
        "        \"733534002\",\n",
        "        \"713427006\",\n",
        "        \"270492004\",\n",
        "        \"713426002\",\n",
        "        \"39732003\",\n",
        "        \"445118002\",\n",
        "        \"164909002\",\n",
        "        \"251146004\",\n",
        "        \"698252002\",\n",
        "        \"426783006\",\n",
        "        \"284470004\",\n",
        "        \"10370003\",\n",
        "        \"365413008\",\n",
        "        \"427172004\",\n",
        "        \"164947007\",\n",
        "        \"111975006\",\n",
        "        \"164917005\",\n",
        "        \"47665007\",\n",
        "        \"59118001\",\n",
        "        \"427393009\",\n",
        "        \"426177001\",\n",
        "        \"427084000\",\n",
        "        \"63593006\",\n",
        "        \"164934002\",\n",
        "        \"59931005\",\n",
        "        \"17338001\",\n",
        "    ]\n",
        ")\n",
        "# VALID_LABELS = set([\"426783006\", \"164889003\", \"164890007\", \"284470004\", \"427172004\"]) # SR, AF, AFL, PAC, PVC\n",
        "NUM_CLASSES =  26\n",
        "EPOCHS = 50\n",
        "LEARNING_RATE = 0.001\n",
        "BATCH_SIZE = 32"
      ]
    },
    {
      "cell_type": "code",
      "execution_count": 2,
      "metadata": {
        "colab": {
          "base_uri": "https://localhost:8080/"
        },
        "id": "68ZDikRKCZ6_",
        "outputId": "8b73ecd8-7954-4f01-fcab-a47cf2df8bda"
      },
      "outputs": [
        {
          "output_type": "stream",
          "name": "stdout",
          "text": [
            "Mon Jul  8 17:46:17 2024       \n",
            "+---------------------------------------------------------------------------------------+\n",
            "| NVIDIA-SMI 535.104.05             Driver Version: 535.104.05   CUDA Version: 12.2     |\n",
            "|-----------------------------------------+----------------------+----------------------+\n",
            "| GPU  Name                 Persistence-M | Bus-Id        Disp.A | Volatile Uncorr. ECC |\n",
            "| Fan  Temp   Perf          Pwr:Usage/Cap |         Memory-Usage | GPU-Util  Compute M. |\n",
            "|                                         |                      |               MIG M. |\n",
            "|=========================================+======================+======================|\n",
            "|   0  Tesla T4                       Off | 00000000:00:04.0 Off |                    0 |\n",
            "| N/A   35C    P8               9W /  70W |      0MiB / 15360MiB |      0%      Default |\n",
            "|                                         |                      |                  N/A |\n",
            "+-----------------------------------------+----------------------+----------------------+\n",
            "                                                                                         \n",
            "+---------------------------------------------------------------------------------------+\n",
            "| Processes:                                                                            |\n",
            "|  GPU   GI   CI        PID   Type   Process name                            GPU Memory |\n",
            "|        ID   ID                                                             Usage      |\n",
            "|=======================================================================================|\n",
            "|  No running processes found                                                           |\n",
            "+---------------------------------------------------------------------------------------+\n"
          ]
        }
      ],
      "source": [
        "# == Check if GPU is available ==\n",
        "\n",
        "!nvidia-smi"
      ]
    },
    {
      "cell_type": "code",
      "execution_count": 35,
      "metadata": {
        "colab": {
          "base_uri": "https://localhost:8080/"
        },
        "id": "fEnUK8J5zqBe",
        "outputId": "66700442-e945-4c80-ef91-2810de0e840c"
      },
      "outputs": [
        {
          "output_type": "stream",
          "name": "stdout",
          "text": [
            "Requirement already satisfied: google-colab in /usr/local/lib/python3.10/dist-packages (1.0.0)\n",
            "Requirement already satisfied: google-auth==2.27.0 in /usr/local/lib/python3.10/dist-packages (from google-colab) (2.27.0)\n",
            "Requirement already satisfied: ipykernel==5.5.6 in /usr/local/lib/python3.10/dist-packages (from google-colab) (5.5.6)\n",
            "Requirement already satisfied: ipyparallel==8.8.0 in /usr/local/lib/python3.10/dist-packages (from google-colab) (8.8.0)\n",
            "Requirement already satisfied: ipython==7.34.0 in /usr/local/lib/python3.10/dist-packages (from google-colab) (7.34.0)\n",
            "Requirement already satisfied: notebook==6.5.5 in /usr/local/lib/python3.10/dist-packages (from google-colab) (6.5.5)\n",
            "Requirement already satisfied: pandas==2.0.3 in /usr/local/lib/python3.10/dist-packages (from google-colab) (2.0.3)\n",
            "Requirement already satisfied: portpicker==1.5.2 in /usr/local/lib/python3.10/dist-packages (from google-colab) (1.5.2)\n",
            "Requirement already satisfied: requests==2.31.0 in /usr/local/lib/python3.10/dist-packages (from google-colab) (2.31.0)\n",
            "Requirement already satisfied: tornado==6.3.3 in /usr/local/lib/python3.10/dist-packages (from google-colab) (6.3.3)\n",
            "Requirement already satisfied: cachetools<6.0,>=2.0.0 in /usr/local/lib/python3.10/dist-packages (from google-auth==2.27.0->google-colab) (5.3.3)\n",
            "Requirement already satisfied: pyasn1-modules>=0.2.1 in /usr/local/lib/python3.10/dist-packages (from google-auth==2.27.0->google-colab) (0.4.0)\n",
            "Requirement already satisfied: rsa<5,>=3.1.4 in /usr/local/lib/python3.10/dist-packages (from google-auth==2.27.0->google-colab) (4.9)\n",
            "Requirement already satisfied: ipython-genutils in /usr/local/lib/python3.10/dist-packages (from ipykernel==5.5.6->google-colab) (0.2.0)\n",
            "Requirement already satisfied: traitlets>=4.1.0 in /usr/local/lib/python3.10/dist-packages (from ipykernel==5.5.6->google-colab) (5.7.1)\n",
            "Requirement already satisfied: jupyter-client in /usr/local/lib/python3.10/dist-packages (from ipykernel==5.5.6->google-colab) (6.1.12)\n",
            "Requirement already satisfied: decorator in /usr/local/lib/python3.10/dist-packages (from ipyparallel==8.8.0->google-colab) (4.4.2)\n",
            "Requirement already satisfied: entrypoints in /usr/local/lib/python3.10/dist-packages (from ipyparallel==8.8.0->google-colab) (0.4)\n",
            "Requirement already satisfied: psutil in /usr/local/lib/python3.10/dist-packages (from ipyparallel==8.8.0->google-colab) (5.9.5)\n",
            "Requirement already satisfied: python-dateutil>=2.1 in /usr/local/lib/python3.10/dist-packages (from ipyparallel==8.8.0->google-colab) (2.8.2)\n",
            "Requirement already satisfied: pyzmq>=18 in /usr/local/lib/python3.10/dist-packages (from ipyparallel==8.8.0->google-colab) (24.0.1)\n",
            "Requirement already satisfied: tqdm in /usr/local/lib/python3.10/dist-packages (from ipyparallel==8.8.0->google-colab) (4.66.4)\n",
            "Requirement already satisfied: setuptools>=18.5 in /usr/local/lib/python3.10/dist-packages (from ipython==7.34.0->google-colab) (67.7.2)\n",
            "Requirement already satisfied: jedi>=0.16 in /usr/local/lib/python3.10/dist-packages (from ipython==7.34.0->google-colab) (0.19.1)\n",
            "Requirement already satisfied: pickleshare in /usr/local/lib/python3.10/dist-packages (from ipython==7.34.0->google-colab) (0.7.5)\n",
            "Requirement already satisfied: prompt-toolkit!=3.0.0,!=3.0.1,<3.1.0,>=2.0.0 in /usr/local/lib/python3.10/dist-packages (from ipython==7.34.0->google-colab) (3.0.47)\n",
            "Requirement already satisfied: pygments in /usr/local/lib/python3.10/dist-packages (from ipython==7.34.0->google-colab) (2.16.1)\n",
            "Requirement already satisfied: backcall in /usr/local/lib/python3.10/dist-packages (from ipython==7.34.0->google-colab) (0.2.0)\n",
            "Requirement already satisfied: matplotlib-inline in /usr/local/lib/python3.10/dist-packages (from ipython==7.34.0->google-colab) (0.1.7)\n",
            "Requirement already satisfied: pexpect>4.3 in /usr/local/lib/python3.10/dist-packages (from ipython==7.34.0->google-colab) (4.9.0)\n",
            "Requirement already satisfied: jinja2 in /usr/local/lib/python3.10/dist-packages (from notebook==6.5.5->google-colab) (3.1.4)\n",
            "Requirement already satisfied: argon2-cffi in /usr/local/lib/python3.10/dist-packages (from notebook==6.5.5->google-colab) (23.1.0)\n",
            "Requirement already satisfied: jupyter-core>=4.6.1 in /usr/local/lib/python3.10/dist-packages (from notebook==6.5.5->google-colab) (5.7.2)\n",
            "Requirement already satisfied: nbformat in /usr/local/lib/python3.10/dist-packages (from notebook==6.5.5->google-colab) (5.10.4)\n",
            "Requirement already satisfied: nbconvert>=5 in /usr/local/lib/python3.10/dist-packages (from notebook==6.5.5->google-colab) (6.5.4)\n",
            "Requirement already satisfied: nest-asyncio>=1.5 in /usr/local/lib/python3.10/dist-packages (from notebook==6.5.5->google-colab) (1.6.0)\n",
            "Requirement already satisfied: Send2Trash>=1.8.0 in /usr/local/lib/python3.10/dist-packages (from notebook==6.5.5->google-colab) (1.8.3)\n",
            "Requirement already satisfied: terminado>=0.8.3 in /usr/local/lib/python3.10/dist-packages (from notebook==6.5.5->google-colab) (0.18.1)\n",
            "Requirement already satisfied: prometheus-client in /usr/local/lib/python3.10/dist-packages (from notebook==6.5.5->google-colab) (0.20.0)\n",
            "Requirement already satisfied: nbclassic>=0.4.7 in /usr/local/lib/python3.10/dist-packages (from notebook==6.5.5->google-colab) (1.1.0)\n",
            "Requirement already satisfied: pytz>=2020.1 in /usr/local/lib/python3.10/dist-packages (from pandas==2.0.3->google-colab) (2023.4)\n",
            "Requirement already satisfied: tzdata>=2022.1 in /usr/local/lib/python3.10/dist-packages (from pandas==2.0.3->google-colab) (2024.1)\n",
            "Requirement already satisfied: numpy>=1.21.0 in /usr/local/lib/python3.10/dist-packages (from pandas==2.0.3->google-colab) (1.25.2)\n",
            "Requirement already satisfied: charset-normalizer<4,>=2 in /usr/local/lib/python3.10/dist-packages (from requests==2.31.0->google-colab) (3.3.2)\n",
            "Requirement already satisfied: idna<4,>=2.5 in /usr/local/lib/python3.10/dist-packages (from requests==2.31.0->google-colab) (3.7)\n",
            "Requirement already satisfied: urllib3<3,>=1.21.1 in /usr/local/lib/python3.10/dist-packages (from requests==2.31.0->google-colab) (2.0.7)\n",
            "Requirement already satisfied: certifi>=2017.4.17 in /usr/local/lib/python3.10/dist-packages (from requests==2.31.0->google-colab) (2024.6.2)\n",
            "Requirement already satisfied: parso<0.9.0,>=0.8.3 in /usr/local/lib/python3.10/dist-packages (from jedi>=0.16->ipython==7.34.0->google-colab) (0.8.4)\n",
            "Requirement already satisfied: platformdirs>=2.5 in /usr/local/lib/python3.10/dist-packages (from jupyter-core>=4.6.1->notebook==6.5.5->google-colab) (4.2.2)\n",
            "Requirement already satisfied: notebook-shim>=0.2.3 in /usr/local/lib/python3.10/dist-packages (from nbclassic>=0.4.7->notebook==6.5.5->google-colab) (0.2.4)\n",
            "Requirement already satisfied: lxml in /usr/local/lib/python3.10/dist-packages (from nbconvert>=5->notebook==6.5.5->google-colab) (4.9.4)\n",
            "Requirement already satisfied: beautifulsoup4 in /usr/local/lib/python3.10/dist-packages (from nbconvert>=5->notebook==6.5.5->google-colab) (4.12.3)\n",
            "Requirement already satisfied: bleach in /usr/local/lib/python3.10/dist-packages (from nbconvert>=5->notebook==6.5.5->google-colab) (6.1.0)\n",
            "Requirement already satisfied: defusedxml in /usr/local/lib/python3.10/dist-packages (from nbconvert>=5->notebook==6.5.5->google-colab) (0.7.1)\n",
            "Requirement already satisfied: jupyterlab-pygments in /usr/local/lib/python3.10/dist-packages (from nbconvert>=5->notebook==6.5.5->google-colab) (0.3.0)\n",
            "Requirement already satisfied: MarkupSafe>=2.0 in /usr/local/lib/python3.10/dist-packages (from nbconvert>=5->notebook==6.5.5->google-colab) (2.1.5)\n",
            "Requirement already satisfied: mistune<2,>=0.8.1 in /usr/local/lib/python3.10/dist-packages (from nbconvert>=5->notebook==6.5.5->google-colab) (0.8.4)\n",
            "Requirement already satisfied: nbclient>=0.5.0 in /usr/local/lib/python3.10/dist-packages (from nbconvert>=5->notebook==6.5.5->google-colab) (0.10.0)\n",
            "Requirement already satisfied: packaging in /usr/local/lib/python3.10/dist-packages (from nbconvert>=5->notebook==6.5.5->google-colab) (24.1)\n",
            "Requirement already satisfied: pandocfilters>=1.4.1 in /usr/local/lib/python3.10/dist-packages (from nbconvert>=5->notebook==6.5.5->google-colab) (1.5.1)\n",
            "Requirement already satisfied: tinycss2 in /usr/local/lib/python3.10/dist-packages (from nbconvert>=5->notebook==6.5.5->google-colab) (1.3.0)\n",
            "Requirement already satisfied: fastjsonschema>=2.15 in /usr/local/lib/python3.10/dist-packages (from nbformat->notebook==6.5.5->google-colab) (2.20.0)\n",
            "Requirement already satisfied: jsonschema>=2.6 in /usr/local/lib/python3.10/dist-packages (from nbformat->notebook==6.5.5->google-colab) (4.19.2)\n",
            "Requirement already satisfied: ptyprocess>=0.5 in /usr/local/lib/python3.10/dist-packages (from pexpect>4.3->ipython==7.34.0->google-colab) (0.7.0)\n",
            "Requirement already satisfied: wcwidth in /usr/local/lib/python3.10/dist-packages (from prompt-toolkit!=3.0.0,!=3.0.1,<3.1.0,>=2.0.0->ipython==7.34.0->google-colab) (0.2.13)\n",
            "Requirement already satisfied: pyasn1<0.7.0,>=0.4.6 in /usr/local/lib/python3.10/dist-packages (from pyasn1-modules>=0.2.1->google-auth==2.27.0->google-colab) (0.6.0)\n",
            "Requirement already satisfied: six>=1.5 in /usr/local/lib/python3.10/dist-packages (from python-dateutil>=2.1->ipyparallel==8.8.0->google-colab) (1.16.0)\n",
            "Requirement already satisfied: argon2-cffi-bindings in /usr/local/lib/python3.10/dist-packages (from argon2-cffi->notebook==6.5.5->google-colab) (21.2.0)\n",
            "Requirement already satisfied: attrs>=22.2.0 in /usr/local/lib/python3.10/dist-packages (from jsonschema>=2.6->nbformat->notebook==6.5.5->google-colab) (23.2.0)\n",
            "Requirement already satisfied: jsonschema-specifications>=2023.03.6 in /usr/local/lib/python3.10/dist-packages (from jsonschema>=2.6->nbformat->notebook==6.5.5->google-colab) (2023.12.1)\n",
            "Requirement already satisfied: referencing>=0.28.4 in /usr/local/lib/python3.10/dist-packages (from jsonschema>=2.6->nbformat->notebook==6.5.5->google-colab) (0.35.1)\n",
            "Requirement already satisfied: rpds-py>=0.7.1 in /usr/local/lib/python3.10/dist-packages (from jsonschema>=2.6->nbformat->notebook==6.5.5->google-colab) (0.18.1)\n",
            "Requirement already satisfied: jupyter-server<3,>=1.8 in /usr/local/lib/python3.10/dist-packages (from notebook-shim>=0.2.3->nbclassic>=0.4.7->notebook==6.5.5->google-colab) (1.24.0)\n",
            "Requirement already satisfied: cffi>=1.0.1 in /usr/local/lib/python3.10/dist-packages (from argon2-cffi-bindings->argon2-cffi->notebook==6.5.5->google-colab) (1.16.0)\n",
            "Requirement already satisfied: soupsieve>1.2 in /usr/local/lib/python3.10/dist-packages (from beautifulsoup4->nbconvert>=5->notebook==6.5.5->google-colab) (2.5)\n",
            "Requirement already satisfied: webencodings in /usr/local/lib/python3.10/dist-packages (from bleach->nbconvert>=5->notebook==6.5.5->google-colab) (0.5.1)\n",
            "Requirement already satisfied: pycparser in /usr/local/lib/python3.10/dist-packages (from cffi>=1.0.1->argon2-cffi-bindings->argon2-cffi->notebook==6.5.5->google-colab) (2.22)\n",
            "Requirement already satisfied: anyio<4,>=3.1.0 in /usr/local/lib/python3.10/dist-packages (from jupyter-server<3,>=1.8->notebook-shim>=0.2.3->nbclassic>=0.4.7->notebook==6.5.5->google-colab) (3.7.1)\n",
            "Requirement already satisfied: websocket-client in /usr/local/lib/python3.10/dist-packages (from jupyter-server<3,>=1.8->notebook-shim>=0.2.3->nbclassic>=0.4.7->notebook==6.5.5->google-colab) (1.8.0)\n",
            "Requirement already satisfied: sniffio>=1.1 in /usr/local/lib/python3.10/dist-packages (from anyio<4,>=3.1.0->jupyter-server<3,>=1.8->notebook-shim>=0.2.3->nbclassic>=0.4.7->notebook==6.5.5->google-colab) (1.3.1)\n",
            "Requirement already satisfied: exceptiongroup in /usr/local/lib/python3.10/dist-packages (from anyio<4,>=3.1.0->jupyter-server<3,>=1.8->notebook-shim>=0.2.3->nbclassic>=0.4.7->notebook==6.5.5->google-colab) (1.2.1)\n",
            "Requirement already satisfied: numpy in /usr/local/lib/python3.10/dist-packages (1.25.2)\n",
            "Requirement already satisfied: h5py in /usr/local/lib/python3.10/dist-packages (3.9.0)\n",
            "Requirement already satisfied: joblib in /usr/local/lib/python3.10/dist-packages (1.4.2)\n",
            "Requirement already satisfied: tqdm in /usr/local/lib/python3.10/dist-packages (4.66.4)\n",
            "Requirement already satisfied: numpy>=1.17.3 in /usr/local/lib/python3.10/dist-packages (from h5py) (1.25.2)\n",
            "Requirement already satisfied: pandas in /usr/local/lib/python3.10/dist-packages (2.0.3)\n",
            "Requirement already satisfied: scipy in /usr/local/lib/python3.10/dist-packages (1.11.4)\n",
            "Requirement already satisfied: imblearn in /usr/local/lib/python3.10/dist-packages (0.0)\n",
            "Requirement already satisfied: python-dateutil>=2.8.2 in /usr/local/lib/python3.10/dist-packages (from pandas) (2.8.2)\n",
            "Requirement already satisfied: pytz>=2020.1 in /usr/local/lib/python3.10/dist-packages (from pandas) (2023.4)\n",
            "Requirement already satisfied: tzdata>=2022.1 in /usr/local/lib/python3.10/dist-packages (from pandas) (2024.1)\n",
            "Requirement already satisfied: numpy>=1.21.0 in /usr/local/lib/python3.10/dist-packages (from pandas) (1.25.2)\n",
            "Requirement already satisfied: imbalanced-learn in /usr/local/lib/python3.10/dist-packages (from imblearn) (0.10.1)\n",
            "Requirement already satisfied: six>=1.5 in /usr/local/lib/python3.10/dist-packages (from python-dateutil>=2.8.2->pandas) (1.16.0)\n",
            "Requirement already satisfied: scikit-learn>=1.0.2 in /usr/local/lib/python3.10/dist-packages (from imbalanced-learn->imblearn) (1.2.2)\n",
            "Requirement already satisfied: joblib>=1.1.1 in /usr/local/lib/python3.10/dist-packages (from imbalanced-learn->imblearn) (1.4.2)\n",
            "Requirement already satisfied: threadpoolctl>=2.0.0 in /usr/local/lib/python3.10/dist-packages (from imbalanced-learn->imblearn) (3.5.0)\n",
            "Requirement already satisfied: matplotlib in /usr/local/lib/python3.10/dist-packages (3.7.1)\n",
            "Requirement already satisfied: contourpy>=1.0.1 in /usr/local/lib/python3.10/dist-packages (from matplotlib) (1.2.1)\n",
            "Requirement already satisfied: cycler>=0.10 in /usr/local/lib/python3.10/dist-packages (from matplotlib) (0.12.1)\n",
            "Requirement already satisfied: fonttools>=4.22.0 in /usr/local/lib/python3.10/dist-packages (from matplotlib) (4.53.0)\n",
            "Requirement already satisfied: kiwisolver>=1.0.1 in /usr/local/lib/python3.10/dist-packages (from matplotlib) (1.4.5)\n",
            "Requirement already satisfied: numpy>=1.20 in /usr/local/lib/python3.10/dist-packages (from matplotlib) (1.25.2)\n",
            "Requirement already satisfied: packaging>=20.0 in /usr/local/lib/python3.10/dist-packages (from matplotlib) (24.1)\n",
            "Requirement already satisfied: pillow>=6.2.0 in /usr/local/lib/python3.10/dist-packages (from matplotlib) (9.4.0)\n",
            "Requirement already satisfied: pyparsing>=2.3.1 in /usr/local/lib/python3.10/dist-packages (from matplotlib) (3.1.2)\n",
            "Requirement already satisfied: python-dateutil>=2.7 in /usr/local/lib/python3.10/dist-packages (from matplotlib) (2.8.2)\n",
            "Requirement already satisfied: six>=1.5 in /usr/local/lib/python3.10/dist-packages (from python-dateutil>=2.7->matplotlib) (1.16.0)\n"
          ]
        }
      ],
      "source": [
        "# == Install requirements ==\n",
        "\n",
        "!pip install google-colab\n",
        "!pip install numpy\n",
        "!pip install h5py joblib tqdm\n",
        "!pip install pandas scipy imblearn\n",
        "!pip install matplotlib"
      ]
    },
    {
      "cell_type": "code",
      "execution_count": 36,
      "metadata": {
        "id": "UD4mNESiD965"
      },
      "outputs": [],
      "source": [
        "# == Import requirements ==\n",
        "\n",
        "import warnings\n",
        "warnings.filterwarnings(\"ignore\")\n",
        "import logging\n",
        "\n",
        "from google.colab import drive, files\n",
        "import os\n",
        "import h5py\n",
        "import joblib\n",
        "from tqdm import tqdm\n",
        "import pandas as pd\n",
        "from collections import Counter\n",
        "\n",
        "import random\n",
        "from sklearn.model_selection import KFold\n",
        "from sklearn.ensemble import RandomForestClassifier\n",
        "from sklearn.metrics import accuracy_score, precision_score, recall_score, f1_score\n",
        "\n",
        "import numpy as np\n",
        "import matplotlib.pyplot as plt\n",
        "\n",
        "import shutil\n",
        "from itertools import zip_longest"
      ]
    },
    {
      "cell_type": "code",
      "execution_count": 6,
      "metadata": {
        "id": "g3IMoWUCkMc5"
      },
      "outputs": [],
      "source": [
        "# == Map labels to numerical values functions ==\n",
        "\n",
        "# Official scored labels Physionet 2021: https://github.com/physionetchallenges/evaluation-2021/blob/main/dx_mapping_scored.csv\n",
        "\n",
        "arrhyhtmia_mapping_id_to_index = {\n",
        "    \"426783006\": 0, # sinus rhythm (SR)\n",
        "    \"164889003\": 1, # atrial fibrillation (AF)\n",
        "    \"164890007\": 2, # atrial flutter (AFL)\n",
        "    \"284470004\": 3, # premature atrial contraction (PAC)\n",
        "    \"63593006\": 3, # supraventricular premature beats (SVPB)\n",
        "    \"427172004\": 4, # premature ventricular contractions (PVC)\n",
        "    \"17338001\": 4, # ventricular premature beats (VPB)\n",
        "    \"6374002\": 5, # bundle branch block (BBB)\n",
        "    \"426627000\": 6, # bradycardia (Brady)\n",
        "    \"733534002\": 7, # complete left bundle branch block (CLBBB)\n",
        "    \"164909002\": 7, # left bundle branch block (LBBB)\n",
        "    \"713427006\": 8, # complete right bundle branch block (CRBBB)\n",
        "    \"59118001\": 8, # right bundle branch block (RBBB)\n",
        "    \"270492004\": 9, # 1st degree av block (IAVB)\n",
        "    \"713426002\": 10, # incomplete right bundle branch block (IRBBB)\n",
        "    \"39732003\": 11, # left axis deviation (LAD)\n",
        "    \"445118002\": 12, # left anterior fascicular block (LAnFB)\n",
        "    \"251146004\": 13, # low qrs voltages (LQRSV)\n",
        "    \"698252002\": 14, # nonspecific intraventricular conduction disorder (NSIVCB)\n",
        "    \"10370003\": 15, # pacing rhythm (PR)\n",
        "    \"365413008\": 16, # poor R wave Progression (PRWP)\n",
        "    \"164947007\": 17, # prolonged pr interval (LPR)\n",
        "    \"111975006\": 18, # prolonged qt interval (LQT)\n",
        "    \"164917005\": 19, # qwave abnormal (QAb)\n",
        "    \"47665007\": 20,  # right axis deviation (RAD)\n",
        "    \"427393009\": 21, # sinus arrhythmia (SA)\n",
        "    \"426177001\": 22, # sinus bradycardia (SB)\n",
        "    \"427084000\": 23, # sinus tachycardia (STach)\n",
        "    \"164934002\": 24, # t wave abnormal (TAb)\n",
        "    \"59931005\": 25 # t wave inversion (TInv)\n",
        "}\n",
        "\n",
        "def map_arrhyhtmia_id_to_index(x: str) -> int:\n",
        "    return arrhyhtmia_mapping_id_to_index[x]\n",
        "\n",
        "arrhyhtmia_mapping_index_to_id = {\n",
        "    0: \"426783006\", # sinus rhythm (SR)\n",
        "    1: \"164889003\", # atrial fibrillation (AF)\n",
        "    2: \"164890007\", # atrial flutter (AFL)\n",
        "    3: \"284470004|63593006\", # premature atrial contraction (PAC) | supraventricular premature beats (SVPB)\n",
        "    4: \"427172004|17338001\", # premature ventricular contractions (PVC) | ventricular premature beats (VPB)\n",
        "    5: \"6374002\", # bundle branch block (BBB)\n",
        "    6: \"426627000\", # bradycardia (Brady)\n",
        "    7: \"733534002|164909002\", # complete left bundle branch block (CLBBB) | left bundle branch block (LBBB)\n",
        "    8: \"713427006|59118001\", # complete right bundle branch block (CRBBB) | right bundle branch block (RBBB)\n",
        "    9: \"270492004\", # 1st degree av block (IAVB)\n",
        "    10: \"713426002\", # incomplete right bundle branch block (IRBBB)\n",
        "    11: \"39732003\", # left axis deviation (LAD)\n",
        "    12: \"445118002\", # left anterior fascicular block (LAnFB)\n",
        "    13: \"251146004\", # low qrs voltages (LQRSV)\n",
        "    14: \"698252002\", # nonspecific intraventricular conduction disorder (NSIVCB)\n",
        "    15: \"10370003\", # pacing rhythm (PR)\n",
        "    16: \"365413008\", # poor R wave Progression (PRWP)\n",
        "    17: \"164947007\", # prolonged pr interval (LPR)\n",
        "    18: \"111975006\", # prolonged qt interval (LQT)\n",
        "    19: \"164917005\", # qwave abnormal (QAb)\n",
        "    20: \"47665007\",  # right axis deviation (RAD)\n",
        "    21: \"427393009\", # sinus arrhythmia (SA)\n",
        "    22: \"426177001\", # sinus bradycardia (SB)\n",
        "    23: \"427084000\", # sinus tachycardia (STach)\n",
        "    24: \"164934002\", # t wave abnormal (TAb)\n",
        "    25: \"59931005\" # t wave inversion (TInv)\n",
        "}\n",
        "\n",
        "# arrhythmia_mapping_index_to_id = dict(map(reversed, arrhyhtmia_mapping_id_to_index.items()))\n",
        "\n",
        "def map_arrhyhtmia_index_to_id(x: int) -> str:\n",
        "    return arrhyhtmia_mapping_index_to_id[x]\n"
      ]
    },
    {
      "cell_type": "code",
      "execution_count": 7,
      "metadata": {
        "colab": {
          "base_uri": "https://localhost:8080/"
        },
        "id": "LZTY2UE1Mhlj",
        "outputId": "7d244aea-c7da-4f17-cd7f-a3b917697e0e"
      },
      "outputs": [
        {
          "output_type": "stream",
          "name": "stdout",
          "text": [
            "Mounted at /content/drive\n",
            "codes_SNOMED.csv  physionet2017_references.csv\tphysionet2021_references.csv\n",
            "physionet2017.h5  physionet2021.h5\t\tprepared\n"
          ]
        }
      ],
      "source": [
        "# == Mount drive ==\n",
        "\n",
        "# https://drive.google.com/drive/folders/1L_gOMrkygu2N0k97COYuVrmE-AwEEMoQ\n",
        "\n",
        "drive.mount('/content/drive')\n",
        "path = \"/content/drive/My Drive/Master Thesis/Datasets\"\n",
        "!ls \"/content/drive/My Drive/Master Thesis/Datasets\""
      ]
    },
    {
      "cell_type": "code",
      "source": [
        "# == Load all Physionet2021 ECGs and their IDs to a dictionary X_dict ==\n",
        "\n",
        "f = open(os.path.join(path, \"prepared/biobss_features_imputated.csv\"), \"r\", encoding=\"utf-8\")\n",
        "id_features = f.readlines()\n",
        "f.close()\n",
        "id_features = list(map(lambda x: x.replace(\"\\n\", \"\").split(\";\"), id_features))\n",
        "id_features = list(map(lambda x: [x[0]] + list(map(lambda y: float(y.split(\": \")[1]), x[1:])), id_features))\n",
        "\n",
        "X_dict = {}\n",
        "for id_feature in id_features:\n",
        "    X_dict[id_feature[0]] = id_feature[1:]\n",
        "\n",
        "# == Load all labels and their IDs to a dictionary Y_dict (some ECGs can have multiple labels) ==\n",
        "Y_dict = {}\n",
        "labels_df = pd.read_csv(os.path.join(path, \"physionet2021_references.csv\"), sep=\";\")\n",
        "pbar = tqdm(total=len(labels_df), desc=\"Load ECG labels\", position=0, leave=True)\n",
        "for _, row in labels_df.iterrows():\n",
        "    labels = row[\"labels\"].strip().split(\",\")\n",
        "    binary_crossentropy_labels = [0, 0, 0, 0, 0, 0, 0, 0, 0, 0, 0, 0, 0, 0, 0, 0, 0, 0, 0, 0, 0, 0, 0, 0, 0, 0]\n",
        "    for label in labels:\n",
        "        if label in VALID_LABELS:\n",
        "              binary_crossentropy_labels[(map_arrhyhtmia_id_to_index(label))] = 1\n",
        "    if row[\"id\"] in X_dict:\n",
        "        Y_dict[row[\"id\"]] = binary_crossentropy_labels\n",
        "    pbar.update(1)"
      ],
      "metadata": {
        "colab": {
          "base_uri": "https://localhost:8080/"
        },
        "id": "Wy88pDICnboO",
        "outputId": "7f56d498-98b3-418e-f862-02f51feb6709"
      },
      "execution_count": 28,
      "outputs": [
        {
          "output_type": "stream",
          "name": "stderr",
          "text": [
            "Load ECG labels: 100%|██████████| 88252/88252 [00:14<00:00, 6006.48it/s] \n",
            "Load ECG labels: 100%|█████████▉| 88174/88252 [00:04<00:00, 18426.03it/s]"
          ]
        }
      ]
    },
    {
      "cell_type": "code",
      "execution_count": 38,
      "metadata": {
        "colab": {
          "base_uri": "https://localhost:8080/"
        },
        "id": "UkTDLTJy9ku0",
        "outputId": "0fa327eb-e6f8-4e82-fba9-079c1ad45c85"
      },
      "outputs": [
        {
          "output_type": "stream",
          "name": "stderr",
          "text": [
            "Map labels to ECGs: 100%|██████████| 81030/81030 [00:00<00:00, 868394.57it/s]\n"
          ]
        }
      ],
      "source": [
        "# == Map scored labels to ECGs and create three lists (X: ECGs, Y: labels, Z: IDs) ==\n",
        "\n",
        "X = []\n",
        "Y = []\n",
        "Z = []\n",
        "\n",
        "for patient_id in tqdm(Y_dict, desc=\"Map labels to ECGs\", position=0, leave=True):\n",
        "      X.append(X_dict[patient_id])\n",
        "      Y.append(Y_dict[patient_id])\n",
        "      Z.append(str(patient_id))"
      ]
    },
    {
      "cell_type": "code",
      "execution_count": 39,
      "metadata": {
        "id": "oH1on-V7RJ1s"
      },
      "outputs": [],
      "source": [
        "# == Shuffle data, convert to numpy lists and reshape ==\n",
        "\n",
        "# Shuffle data\n",
        "combined = list(zip(X, Y, Z))\n",
        "random.shuffle(combined)\n",
        "X, Y, Z = zip(*combined)\n",
        "X = list(X)\n",
        "Y = list(Y)\n",
        "Z = list(Z)\n",
        "\n",
        "# Convert to numpy lists\n",
        "for index, x in enumerate(X):\n",
        "    X[index] = np.array(x)\n",
        "X = np.array(X)\n",
        "\n",
        "for index, y in enumerate(Y):\n",
        "    Y[index] = np.array(y)\n",
        "Y = np.array(Y)\n",
        "\n",
        "Z = np.array(Z)"
      ]
    },
    {
      "cell_type": "code",
      "execution_count": 40,
      "metadata": {
        "id": "Zmp-isCF5Fi8"
      },
      "outputs": [],
      "source": [
        "try:\n",
        "    if os.path.exists(\"models\"):\n",
        "        shutil.rmtree(\"models\")\n",
        "    os.makedirs(\"models\")\n",
        "except OSError as e:\n",
        "    print(f\"Error: {e.strerror}\")\n",
        "\n",
        "try:\n",
        "    if os.path.exists(\"test_outputs\"):\n",
        "        shutil.rmtree(\"test_outputs\")\n",
        "    os.makedirs(\"test_outputs\")\n",
        "except OSError as e:\n",
        "    print(f\"Error: {e.strerror}\")"
      ]
    },
    {
      "cell_type": "code",
      "execution_count": 32,
      "metadata": {
        "id": "btGG3vIB46V4"
      },
      "outputs": [],
      "source": [
        "# == Save predictions util functin ==\n",
        "\n",
        "def save_predictions(pred, pred_prob, z_test):\n",
        "    pbar = tqdm(total=len(pred), desc=\"Convert test_outputs\", position=0, leave=True)\n",
        "    for index, prediction in enumerate(tqdm(zip(pred, pred_prob))):\n",
        "        pbar.update(1)\n",
        "        new_file = \"#\"\n",
        "        new_file += z_test[index] + \"\\n\"\n",
        "        # ids\n",
        "        for pred_index, _ in enumerate(prediction[0]):\n",
        "            new_file += map_arrhyhtmia_index_to_id(pred_index) + \",\"\n",
        "        new_file = new_file[:-1] + \"\\n\"\n",
        "        # pred\n",
        "        for pred_index, _ in enumerate(prediction[0]):\n",
        "            if prediction[0][pred_index] == 1:\n",
        "                value = \"True\"\n",
        "            elif prediction[0][pred_index] == 0:\n",
        "                value = \"False\"\n",
        "            new_file += value + \",\"\n",
        "        new_file = new_file[:-1] + \"\\n\"\n",
        "        # pred_prob\n",
        "        for pred_index, _ in enumerate(prediction[1]):\n",
        "            new_file += str(prediction[1][pred_index]) + \",\"\n",
        "        new_file = new_file[:-1]\n",
        "        with open(f\"test_outputs/{z_test[index]}.csv\", \"w\", encoding=\"utf-8\") as file:\n",
        "            file.write(new_file)"
      ]
    },
    {
      "cell_type": "code",
      "execution_count": 33,
      "metadata": {
        "id": "v_8Bb2yWJAy5"
      },
      "outputs": [],
      "source": [
        "# == Plot distribution util functin ==\n",
        "\n",
        "def plot_distribution(Y):\n",
        "    extracted_labels_testset = []\n",
        "    for label in Y:\n",
        "        for index, _ in enumerate(label):\n",
        "            if label[index]:\n",
        "                extracted_labels_testset.append(index)\n",
        "\n",
        "    label_counts = Counter(extracted_labels_testset)\n",
        "    print(label_counts)\n",
        "    combined = list(zip(label_counts.keys(), label_counts.values()))\n",
        "    combined.sort(key=lambda x: x[1], reverse=True)\n",
        "    label_keys, label_values = zip(*combined)\n",
        "    label_keys = list(label_keys)\n",
        "    label_values = list(label_values)\n",
        "\n",
        "    label_keys = list(map(lambda x: str(x), label_keys))\n",
        "\n",
        "    # for index, key in enumerate(label_keys):\n",
        "    #    label_keys[index] = str(index + 1) + \". \" + key[0].upper() + key[1:]\n",
        "\n",
        "    plt.figure(figsize=(30, 10))\n",
        "    plt.bar(label_keys, label_values, color=\"#1f77b4\")\n",
        "    plt.title(\"Physionet 2021 labels\")\n",
        "    plt.xlabel(\"Arrhythmia type\", labelpad=7)\n",
        "    plt.ylabel(\"Occurence\")\n",
        "    plt.xticks(rotation=45, ha=\"right\", fontsize=16)  # (rotation='diagional')\n",
        "    bars = plt.bar(label_keys, label_values, color=\"#1f77b4\")\n",
        "    # Adding the counts on top of the bars\n",
        "    for bar in bars:\n",
        "        yval = bar.get_height()\n",
        "        plt.text(\n",
        "            bar.get_x() + bar.get_width() / 2,\n",
        "            yval + 5,\n",
        "            yval,\n",
        "            ha=\"center\",\n",
        "            va=\"bottom\",\n",
        "            fontsize=16,\n",
        "        )\n",
        "\n",
        "    plt.show()\n",
        "    plt.close()"
      ]
    },
    {
      "cell_type": "code",
      "execution_count": 41,
      "metadata": {
        "colab": {
          "base_uri": "https://localhost:8080/"
        },
        "id": "YlKSZZq2wFGN",
        "outputId": "79665eeb-aa2b-4f37-810a-0709afa5b69c"
      },
      "outputs": [
        {
          "output_type": "stream",
          "name": "stdout",
          "text": [
            "Accuracy: 0.3984\n",
            "Precision: 0.7633\n",
            "Recall: 0.3878\n",
            "F1-score: 0.4122\n",
            "Save predictions...\n"
          ]
        },
        {
          "output_type": "stream",
          "name": "stderr",
          "text": [
            "Convert test_outputs:   0%|          | 0/8103 [00:00<?, ?it/s]\n",
            "Convert test_outputs:  13%|█▎        | 1033/8103 [00:00<00:00, 10324.52it/s]\n",
            "Convert test_outputs:  26%|██▌       | 2115/8103 [00:00<00:00, 10612.93it/s]\n",
            "Convert test_outputs:  39%|███▉      | 3177/8103 [00:00<00:00, 10513.09it/s]\n",
            "Convert test_outputs:  52%|█████▏    | 4229/8103 [00:00<00:00, 10410.87it/s]\n",
            "Convert test_outputs:  65%|██████▌   | 5271/8103 [00:00<00:00, 10187.44it/s]\n",
            "Convert test_outputs:  78%|███████▊  | 6323/8103 [00:00<00:00, 10297.81it/s]\n",
            "Convert test_outputs:  91%|█████████ | 7383/8103 [00:00<00:00, 10393.46it/s]\n",
            "8103it [00:00, 10403.23it/s]\n",
            "Convert test_outputs: 100%|██████████| 8103/8103 [00:00<00:00, 10339.11it/s]\n"
          ]
        },
        {
          "output_type": "stream",
          "name": "stdout",
          "text": [
            "...finished saving.\n",
            "Accuracy: 0.3883\n",
            "Precision: 0.7096\n",
            "Recall: 0.3777\n",
            "F1-score: 0.4005\n",
            "Save predictions...\n"
          ]
        },
        {
          "output_type": "stream",
          "name": "stderr",
          "text": [
            "Convert test_outputs:   0%|          | 0/8103 [00:00<?, ?it/s]\n",
            "Convert test_outputs:  12%|█▏        | 994/8103 [00:00<00:00, 9935.70it/s]\n",
            "Convert test_outputs:  25%|██▍       | 1988/8103 [00:00<00:00, 9937.69it/s]\n",
            "Convert test_outputs:  37%|███▋      | 2991/8103 [00:00<00:00, 9979.28it/s]\n",
            "Convert test_outputs:  50%|████▉     | 4048/8103 [00:00<00:00, 10211.04it/s]\n",
            "Convert test_outputs:  63%|██████▎   | 5115/8103 [00:00<00:00, 10374.19it/s]\n",
            "Convert test_outputs:  76%|███████▋  | 6183/8103 [00:00<00:00, 10475.77it/s]\n",
            "Convert test_outputs:  90%|████████▉ | 7270/8103 [00:00<00:00, 10602.67it/s]\n",
            "8103it [00:00, 10520.48it/s]\n",
            "Convert test_outputs: 100%|██████████| 8103/8103 [00:00<00:00, 10441.54it/s]\n"
          ]
        },
        {
          "output_type": "stream",
          "name": "stdout",
          "text": [
            "...finished saving.\n",
            "Accuracy: 0.3939\n",
            "Precision: 0.7360\n",
            "Recall: 0.3857\n",
            "F1-score: 0.4110\n",
            "Save predictions...\n"
          ]
        },
        {
          "output_type": "stream",
          "name": "stderr",
          "text": [
            "Convert test_outputs:   0%|          | 0/8103 [00:00<?, ?it/s]\n",
            "Convert test_outputs:  12%|█▏        | 996/8103 [00:00<00:00, 9953.20it/s]\n",
            "Convert test_outputs:  25%|██▍       | 1992/8103 [00:00<00:00, 9493.31it/s]\n",
            "Convert test_outputs:  36%|███▋      | 2943/8103 [00:00<00:00, 9378.55it/s]\n",
            "Convert test_outputs:  49%|████▉     | 4005/8103 [00:00<00:00, 9856.86it/s]\n",
            "Convert test_outputs:  62%|██████▏   | 4993/8103 [00:00<00:00, 9337.57it/s]\n",
            "Convert test_outputs:  75%|███████▍  | 6052/8103 [00:00<00:00, 9740.68it/s]\n",
            "Convert test_outputs:  87%|████████▋ | 7032/8103 [00:00<00:00, 9501.97it/s]\n",
            "Convert test_outputs:  99%|█████████▊| 7987/8103 [00:00<00:00, 9440.40it/s]\n",
            "8103it [00:00, 9525.61it/s]\n",
            "Convert test_outputs: 100%|██████████| 8103/8103 [00:00<00:00, 9467.03it/s]\n"
          ]
        },
        {
          "output_type": "stream",
          "name": "stdout",
          "text": [
            "...finished saving.\n",
            "Accuracy: 0.3792\n",
            "Precision: 0.7503\n",
            "Recall: 0.3729\n",
            "F1-score: 0.3963\n",
            "Save predictions...\n"
          ]
        },
        {
          "output_type": "stream",
          "name": "stderr",
          "text": [
            "Convert test_outputs:   0%|          | 0/8103 [00:00<?, ?it/s]\n",
            "Convert test_outputs:  13%|█▎        | 1037/8103 [00:00<00:00, 10365.02it/s]\n",
            "Convert test_outputs:  26%|██▌       | 2075/8103 [00:00<00:00, 10371.32it/s]\n",
            "Convert test_outputs:  38%|███▊      | 3113/8103 [00:00<00:00, 10287.02it/s]\n",
            "Convert test_outputs:  51%|█████▏    | 4162/8103 [00:00<00:00, 10363.93it/s]\n",
            "Convert test_outputs:  64%|██████▍   | 5218/8103 [00:00<00:00, 10434.35it/s]\n",
            "Convert test_outputs:  78%|███████▊  | 6305/8103 [00:00<00:00, 10581.11it/s]\n",
            "Convert test_outputs:  91%|█████████▏| 7397/8103 [00:00<00:00, 10691.16it/s]\n",
            "8103it [00:00, 10573.62it/s]\n",
            "Convert test_outputs: 100%|██████████| 8103/8103 [00:00<00:00, 10503.54it/s]\n"
          ]
        },
        {
          "output_type": "stream",
          "name": "stdout",
          "text": [
            "...finished saving.\n",
            "Accuracy: 0.3900\n",
            "Precision: 0.7437\n",
            "Recall: 0.3830\n",
            "F1-score: 0.4086\n",
            "Save predictions...\n"
          ]
        },
        {
          "output_type": "stream",
          "name": "stderr",
          "text": [
            "Convert test_outputs:   0%|          | 0/8103 [00:00<?, ?it/s]\n",
            "Convert test_outputs:  14%|█▎        | 1101/8103 [00:00<00:00, 11006.55it/s]\n",
            "Convert test_outputs:  27%|██▋       | 2214/8103 [00:00<00:00, 11077.50it/s]\n",
            "Convert test_outputs:  41%|████      | 3325/8103 [00:00<00:00, 11089.69it/s]\n",
            "Convert test_outputs:  55%|█████▍    | 4434/8103 [00:00<00:00, 10651.21it/s]\n",
            "Convert test_outputs:  68%|██████▊   | 5526/8103 [00:00<00:00, 10743.61it/s]\n",
            "Convert test_outputs:  82%|████████▏ | 6612/8103 [00:00<00:00, 10780.56it/s]\n",
            "Convert test_outputs:  95%|█████████▌| 7718/8103 [00:00<00:00, 10869.01it/s]\n",
            "8103it [00:00, 10861.15it/s]\n",
            "Convert test_outputs: 100%|██████████| 8103/8103 [00:00<00:00, 10784.82it/s]\n"
          ]
        },
        {
          "output_type": "stream",
          "name": "stdout",
          "text": [
            "...finished saving.\n",
            "Accuracy: 0.3917\n",
            "Precision: 0.7664\n",
            "Recall: 0.3868\n",
            "F1-score: 0.4097\n",
            "Save predictions...\n"
          ]
        },
        {
          "output_type": "stream",
          "name": "stderr",
          "text": [
            "Convert test_outputs:   0%|          | 0/8103 [00:00<?, ?it/s]\n",
            "Convert test_outputs:  14%|█▎        | 1094/8103 [00:00<00:00, 10933.49it/s]\n",
            "Convert test_outputs:  27%|██▋       | 2188/8103 [00:00<00:00, 10911.56it/s]\n",
            "Convert test_outputs:  40%|████      | 3280/8103 [00:00<00:00, 10587.16it/s]\n",
            "Convert test_outputs:  54%|█████▎    | 4354/8103 [00:00<00:00, 10645.92it/s]\n",
            "Convert test_outputs:  67%|██████▋   | 5443/8103 [00:00<00:00, 10729.85it/s]\n",
            "Convert test_outputs:  81%|████████  | 6529/8103 [00:00<00:00, 10772.09it/s]\n",
            "Convert test_outputs:  94%|█████████▍| 7607/8103 [00:00<00:00, 10771.60it/s]\n",
            "8103it [00:00, 10771.63it/s]\n",
            "Convert test_outputs: 100%|██████████| 8103/8103 [00:00<00:00, 10698.62it/s]\n"
          ]
        },
        {
          "output_type": "stream",
          "name": "stdout",
          "text": [
            "...finished saving.\n",
            "Accuracy: 0.3844\n",
            "Precision: 0.6875\n",
            "Recall: 0.3760\n",
            "F1-score: 0.4002\n",
            "Save predictions...\n"
          ]
        },
        {
          "output_type": "stream",
          "name": "stderr",
          "text": [
            "Convert test_outputs:   0%|          | 0/8103 [00:00<?, ?it/s]\n",
            "Convert test_outputs:  13%|█▎        | 1020/8103 [00:00<00:00, 10192.67it/s]\n",
            "Convert test_outputs:  25%|██▌       | 2040/8103 [00:00<00:00, 9773.93it/s] \n",
            "Convert test_outputs:  38%|███▊      | 3114/8103 [00:00<00:00, 10204.79it/s]\n",
            "Convert test_outputs:  52%|█████▏    | 4201/8103 [00:00<00:00, 10460.96it/s]\n",
            "Convert test_outputs:  65%|██████▌   | 5288/8103 [00:00<00:00, 10606.07it/s]\n",
            "Convert test_outputs:  78%|███████▊  | 6350/8103 [00:00<00:00, 10065.83it/s]\n",
            "Convert test_outputs:  91%|█████████ | 7388/8103 [00:00<00:00, 10161.48it/s]\n",
            "8103it [00:00, 10172.11it/s]\n",
            "Convert test_outputs: 100%|██████████| 8103/8103 [00:00<00:00, 10102.70it/s]\n"
          ]
        },
        {
          "output_type": "stream",
          "name": "stdout",
          "text": [
            "...finished saving.\n",
            "Accuracy: 0.3827\n",
            "Precision: 0.6647\n",
            "Recall: 0.3818\n",
            "F1-score: 0.4063\n",
            "Save predictions...\n"
          ]
        },
        {
          "output_type": "stream",
          "name": "stderr",
          "text": [
            "Convert test_outputs:   0%|          | 0/8103 [00:00<?, ?it/s]\n",
            "Convert test_outputs:  11%|█▏        | 927/8103 [00:00<00:00, 9266.98it/s]\n",
            "Convert test_outputs:  24%|██▎       | 1921/8103 [00:00<00:00, 9662.38it/s]\n",
            "Convert test_outputs:  37%|███▋      | 2958/8103 [00:00<00:00, 9984.71it/s]\n",
            "Convert test_outputs:  49%|████▉     | 3957/8103 [00:00<00:00, 9160.07it/s]\n",
            "Convert test_outputs:  60%|██████    | 4883/8103 [00:00<00:00, 8333.75it/s]\n",
            "Convert test_outputs:  71%|███████   | 5738/8103 [00:00<00:00, 8399.83it/s]\n",
            "Convert test_outputs:  81%|████████▏ | 6593/8103 [00:00<00:00, 8436.54it/s]\n",
            "Convert test_outputs:  92%|█████████▏| 7444/8103 [00:00<00:00, 7728.48it/s]\n",
            "8103it [00:00, 8283.75it/s]\n",
            "Convert test_outputs: 100%|██████████| 8103/8103 [00:00<00:00, 8224.24it/s]\n"
          ]
        },
        {
          "output_type": "stream",
          "name": "stdout",
          "text": [
            "...finished saving.\n",
            "Accuracy: 0.3892\n",
            "Precision: 0.7495\n",
            "Recall: 0.3792\n",
            "F1-score: 0.4037\n",
            "Save predictions...\n"
          ]
        },
        {
          "output_type": "stream",
          "name": "stderr",
          "text": [
            "Convert test_outputs:   0%|          | 0/8103 [00:00<?, ?it/s]\n",
            "Convert test_outputs:  14%|█▎        | 1101/8103 [00:00<00:00, 11005.55it/s]\n",
            "Convert test_outputs:  27%|██▋       | 2209/8103 [00:00<00:00, 11044.67it/s]\n",
            "Convert test_outputs:  41%|████      | 3314/8103 [00:00<00:00, 10958.16it/s]\n",
            "Convert test_outputs:  54%|█████▍    | 4410/8103 [00:00<00:00, 10933.18it/s]\n",
            "Convert test_outputs:  68%|██████▊   | 5504/8103 [00:00<00:00, 10896.20it/s]\n",
            "Convert test_outputs:  81%|████████▏ | 6595/8103 [00:00<00:00, 10897.58it/s]\n",
            "Convert test_outputs:  95%|█████████▍| 7685/8103 [00:00<00:00, 10831.63it/s]\n",
            "8103it [00:00, 10800.85it/s]\n",
            "Convert test_outputs: 100%|██████████| 8103/8103 [00:00<00:00, 10729.10it/s]\n"
          ]
        },
        {
          "output_type": "stream",
          "name": "stdout",
          "text": [
            "...finished saving.\n",
            "Accuracy: 0.3941\n",
            "Precision: 0.7094\n",
            "Recall: 0.3879\n",
            "F1-score: 0.4124\n",
            "Save predictions...\n"
          ]
        },
        {
          "output_type": "stream",
          "name": "stderr",
          "text": [
            "Convert test_outputs:   0%|          | 0/8103 [00:00<?, ?it/s]\n",
            "Convert test_outputs:  13%|█▎        | 1047/8103 [00:00<00:00, 10469.59it/s]\n",
            "Convert test_outputs:  26%|██▌       | 2094/8103 [00:00<00:00, 10343.26it/s]\n",
            "Convert test_outputs:  39%|███▊      | 3129/8103 [00:00<00:00, 10316.59it/s]\n",
            "Convert test_outputs:  51%|█████▏    | 4161/8103 [00:00<00:00, 10305.85it/s]\n",
            "Convert test_outputs:  64%|██████▍   | 5200/8103 [00:00<00:00, 10332.51it/s]\n",
            "Convert test_outputs:  77%|███████▋  | 6234/8103 [00:00<00:00, 10290.98it/s]\n",
            "Convert test_outputs:  90%|████████▉ | 7291/8103 [00:00<00:00, 10381.36it/s]\n",
            "8103it [00:00, 10377.71it/s]\n",
            "Convert test_outputs: 100%|██████████| 8103/8103 [00:00<00:00, 10310.20it/s]"
          ]
        },
        {
          "output_type": "stream",
          "name": "stdout",
          "text": [
            "...finished saving.\n"
          ]
        },
        {
          "output_type": "stream",
          "name": "stderr",
          "text": [
            "\n"
          ]
        }
      ],
      "source": [
        "# == Train model ==\n",
        "\n",
        "# Initialize KFold\n",
        "fold_counter = 1\n",
        "n_folds = 10\n",
        "kf = KFold(n_splits=n_folds, shuffle=True, random_state=42)\n",
        "metrics = {\n",
        "    \"accuracy\": [],\n",
        "    \"precision\": [],\n",
        "    \"recall\": [],\n",
        "    \"f1\": []\n",
        "}\n",
        "\n",
        "# Cross-validation\n",
        "for train_index, test_index in kf.split(X):\n",
        "    X_train, X_test = X[train_index], X[test_index]\n",
        "    y_train, y_test = Y[train_index], Y[test_index]\n",
        "    z_train, z_test = Z[train_index], Z[test_index]\n",
        "\n",
        "\n",
        "    model = RandomForestClassifier() # RandomForestClassifier(n_estimators=100, random_state=42, max_features=30)\n",
        "    model.fit(X_train, y_train)\n",
        "\n",
        "    joblib.dump(model, f\"models/{fold_counter}.pkl\")\n",
        "    fold_counter += 1\n",
        "\n",
        "    pred_prob = model.predict(X_test)\n",
        "    threshold = 0.5\n",
        "    pred = (pred_prob > threshold).astype(int)\n",
        "\n",
        "    accuracy = accuracy_score(y_test, pred)\n",
        "    precision = precision_score(y_test, pred, average='weighted')\n",
        "    recall = recall_score(y_test, pred, average='weighted')\n",
        "    f1 = f1_score(y_test, pred, average='weighted')\n",
        "\n",
        "    print(f\"Accuracy: {accuracy:.4f}\")\n",
        "    print(f\"Precision: {precision:.4f}\")\n",
        "    print(f\"Recall: {recall:.4f}\")\n",
        "    print(f\"F1-score: {f1:.4f}\")\n",
        "\n",
        "    print(\"Save predictions...\")\n",
        "    save_predictions(pred, pred_prob, z_test)\n",
        "    print(\"...finished saving.\")\n",
        "\n",
        "    metrics[\"accuracy\"].append(accuracy)\n",
        "    metrics[\"precision\"].append(precision)\n",
        "    metrics[\"recall\"].append(recall)\n",
        "    metrics[\"f1\"].append(f1)\n",
        "\n",
        "# train_accuracy = history.history[\"accuracy\"] # list\n",
        "# val_accuracy = history.history[\"val_accuracy\"] # list\n",
        "# train_loss = history.history[\"loss\"] # list\n",
        "# val_loss = history.history[\"val_loss\"] # list"
      ]
    },
    {
      "cell_type": "code",
      "execution_count": 42,
      "metadata": {
        "id": "v4TeNl83xv3Q",
        "colab": {
          "base_uri": "https://localhost:8080/"
        },
        "outputId": "eead4f6b-3c30-41f1-8d02-0ea0477e6ff1"
      },
      "outputs": [
        {
          "output_type": "stream",
          "name": "stdout",
          "text": [
            "Average - Accuracy: 0.3892, Precision: 0.7281, Recall: 0.3819, F1-score: 0.4061\n"
          ]
        }
      ],
      "source": [
        "# Print the metrics for each fold\n",
        "# for i in range(n_folds):\n",
        "#    print(f\"Fold {i+1} - Accuracy: {metrics['accuracy'][i]:.4f}, Precision: {metrics['precision'][i]:.4f}, Recall: {metrics['recall'][i]:.4f}, F1-score: {metrics['f1'][i]:.4f}\")\n",
        "\n",
        "# Calculate and print average metrics\n",
        "avg_accuracy = np.mean(metrics[\"accuracy\"])\n",
        "avg_precision = np.mean(metrics[\"precision\"])\n",
        "avg_recall = np.mean(metrics[\"recall\"])\n",
        "avg_f1 = np.mean(metrics[\"f1\"])\n",
        "\n",
        "print(f\"Average - Accuracy: {avg_accuracy:.4f}, Precision: {avg_precision:.4f}, Recall: {avg_recall:.4f}, F1-score: {avg_f1:.4f}\")"
      ]
    },
    {
      "cell_type": "code",
      "execution_count": 43,
      "metadata": {
        "id": "_-W9N5eR9RTD",
        "colab": {
          "base_uri": "https://localhost:8080/",
          "height": 32
        },
        "outputId": "9f4c2e0d-deca-4622-8694-7b98abbf54d1"
      },
      "outputs": [
        {
          "output_type": "display_data",
          "data": {
            "text/plain": [
              "<IPython.core.display.Javascript object>"
            ],
            "application/javascript": [
              "\n",
              "    async function download(id, filename, size) {\n",
              "      if (!google.colab.kernel.accessAllowed) {\n",
              "        return;\n",
              "      }\n",
              "      const div = document.createElement('div');\n",
              "      const label = document.createElement('label');\n",
              "      label.textContent = `Downloading \"${filename}\": `;\n",
              "      div.appendChild(label);\n",
              "      const progress = document.createElement('progress');\n",
              "      progress.max = size;\n",
              "      div.appendChild(progress);\n",
              "      document.body.appendChild(div);\n",
              "\n",
              "      const buffers = [];\n",
              "      let downloaded = 0;\n",
              "\n",
              "      const channel = await google.colab.kernel.comms.open(id);\n",
              "      // Send a message to notify the kernel that we're ready.\n",
              "      channel.send({})\n",
              "\n",
              "      for await (const message of channel.messages) {\n",
              "        // Send a message to notify the kernel that we're ready.\n",
              "        channel.send({})\n",
              "        if (message.buffers) {\n",
              "          for (const buffer of message.buffers) {\n",
              "            buffers.push(buffer);\n",
              "            downloaded += buffer.byteLength;\n",
              "            progress.value = downloaded;\n",
              "          }\n",
              "        }\n",
              "      }\n",
              "      const blob = new Blob(buffers, {type: 'application/binary'});\n",
              "      const a = document.createElement('a');\n",
              "      a.href = window.URL.createObjectURL(blob);\n",
              "      a.download = filename;\n",
              "      div.appendChild(a);\n",
              "      a.click();\n",
              "      div.remove();\n",
              "    }\n",
              "  "
            ]
          },
          "metadata": {}
        },
        {
          "output_type": "display_data",
          "data": {
            "text/plain": [
              "<IPython.core.display.Javascript object>"
            ],
            "application/javascript": [
              "download(\"download_73038d47-b6e1-434b-b7f9-ab5829c05b42\", \"models.zip\", 1543102145)"
            ]
          },
          "metadata": {}
        },
        {
          "output_type": "display_data",
          "data": {
            "text/plain": [
              "<IPython.core.display.Javascript object>"
            ],
            "application/javascript": [
              "\n",
              "    async function download(id, filename, size) {\n",
              "      if (!google.colab.kernel.accessAllowed) {\n",
              "        return;\n",
              "      }\n",
              "      const div = document.createElement('div');\n",
              "      const label = document.createElement('label');\n",
              "      label.textContent = `Downloading \"${filename}\": `;\n",
              "      div.appendChild(label);\n",
              "      const progress = document.createElement('progress');\n",
              "      progress.max = size;\n",
              "      div.appendChild(progress);\n",
              "      document.body.appendChild(div);\n",
              "\n",
              "      const buffers = [];\n",
              "      let downloaded = 0;\n",
              "\n",
              "      const channel = await google.colab.kernel.comms.open(id);\n",
              "      // Send a message to notify the kernel that we're ready.\n",
              "      channel.send({})\n",
              "\n",
              "      for await (const message of channel.messages) {\n",
              "        // Send a message to notify the kernel that we're ready.\n",
              "        channel.send({})\n",
              "        if (message.buffers) {\n",
              "          for (const buffer of message.buffers) {\n",
              "            buffers.push(buffer);\n",
              "            downloaded += buffer.byteLength;\n",
              "            progress.value = downloaded;\n",
              "          }\n",
              "        }\n",
              "      }\n",
              "      const blob = new Blob(buffers, {type: 'application/binary'});\n",
              "      const a = document.createElement('a');\n",
              "      a.href = window.URL.createObjectURL(blob);\n",
              "      a.download = filename;\n",
              "      div.appendChild(a);\n",
              "      a.click();\n",
              "      div.remove();\n",
              "    }\n",
              "  "
            ]
          },
          "metadata": {}
        },
        {
          "output_type": "display_data",
          "data": {
            "text/plain": [
              "<IPython.core.display.Javascript object>"
            ],
            "application/javascript": [
              "download(\"download_65c324cb-1573-43e8-8035-0a7b143164c4\", \"test_outputs.zip\", 23018248)"
            ]
          },
          "metadata": {}
        }
      ],
      "source": [
        "folder_to_zip = \"models\"\n",
        "output_filename = 'models.zip'\n",
        "shutil.make_archive(output_filename.replace('.zip', ''), 'zip', folder_to_zip)\n",
        "files.download(output_filename)\n",
        "\n",
        "folder_to_zip = \"test_outputs\"\n",
        "output_filename = 'test_outputs.zip'\n",
        "shutil.make_archive(output_filename.replace('.zip', ''), 'zip', folder_to_zip)\n",
        "files.download(output_filename)"
      ]
    }
  ],
  "metadata": {
    "accelerator": "GPU",
    "colab": {
      "gpuType": "T4",
      "machine_shape": "hm",
      "provenance": []
    },
    "kernelspec": {
      "display_name": "Python 3",
      "name": "python3"
    },
    "language_info": {
      "name": "python"
    }
  },
  "nbformat": 4,
  "nbformat_minor": 0
}